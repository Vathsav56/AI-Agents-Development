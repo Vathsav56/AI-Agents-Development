{
  "nbformat": 4,
  "nbformat_minor": 0,
  "metadata": {
    "colab": {
      "provenance": [],
      "authorship_tag": "ABX9TyNuvyFfMTJD/xqfdWB/aYo4",
      "include_colab_link": true
    },
    "kernelspec": {
      "name": "python3",
      "display_name": "Python 3"
    },
    "language_info": {
      "name": "python"
    }
  },
  "cells": [
    {
      "cell_type": "markdown",
      "metadata": {
        "id": "view-in-github",
        "colab_type": "text"
      },
      "source": [
        "<a href=\"https://colab.research.google.com/github/Vathsav56/AI-Agents-Development/blob/code/code/HppModelExe.ipynb\" target=\"_parent\"><img src=\"https://colab.research.google.com/assets/colab-badge.svg\" alt=\"Open In Colab\"/></a>"
      ]
    },
    {
      "cell_type": "code",
      "source": [
        "from sklearn.datasets import fetch_california_housing\n",
        "import pandas as pd\n",
        "\n",
        "# Load the California Housing dataset\n",
        "california_housing = fetch_california_housing()\n",
        "\n",
        "# Create a pandas DataFrame for better exploration\n",
        "X = pd.DataFrame(california_housing.data, columns=california_housing.feature_names)\n",
        "y = pd.Series(california_housing.target, name='MedHouseVal')\n",
        "\n",
        "# Display the first few rows of the features\n",
        "print(\"Features (X):\")\n",
        "print(X.head())\n",
        "\n",
        "# Display the first few rows of the target\n",
        "print(\"\\nTarget (y):\")\n",
        "print(y.head())\n",
        "\n",
        "# You can also explore the description of the dataset\n",
        "# print(\"\\nDataset Description:\")\n",
        "# print(california_housing.DESCR)"
      ],
      "metadata": {
        "colab": {
          "base_uri": "https://localhost:8080/"
        },
        "id": "8XqboMEyhrnw",
        "outputId": "6e0c1ae1-f7ae-4a0c-c9a8-a376518a487d"
      },
      "execution_count": null,
      "outputs": [
        {
          "output_type": "stream",
          "name": "stdout",
          "text": [
            "Features (X):\n",
            "   MedInc  HouseAge  AveRooms  AveBedrms  Population  AveOccup  Latitude  Longitude\n",
            "0  8.3252      41.0  6.984127   1.023810       322.0  2.555556     37.88    -122.23\n",
            "1  8.3014      21.0  6.238137   0.971880      2401.0  2.109842     37.86    -122.22\n",
            "2  7.2574      52.0  8.288136   1.073446       496.0  2.802260     37.85    -122.24\n",
            "3  5.6431      52.0  5.817352   1.073059       558.0  2.547945     37.85    -122.25\n",
            "4  3.8462      52.0  6.281853   1.081081       565.0  2.181467     37.85    -122.25\n",
            "\n",
            "Target (y):\n",
            "0    4.526\n",
            "1    3.585\n",
            "2    3.521\n",
            "3    3.413\n",
            "4    3.422\n",
            "Name: MedHouseVal, dtype: float64\n"
          ]
        }
      ]
    },
    {
      "cell_type": "code",
      "source": [],
      "metadata": {
        "id": "mzyGjgLPhr_Y"
      },
      "execution_count": null,
      "outputs": []
    }
  ]
}