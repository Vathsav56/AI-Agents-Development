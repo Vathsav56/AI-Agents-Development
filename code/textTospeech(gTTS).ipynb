{
  "nbformat": 4,
  "nbformat_minor": 0,
  "metadata": {
    "colab": {
      "provenance": [],
      "authorship_tag": "ABX9TyO/eSniraP6vsCwSXSE1peP",
      "include_colab_link": true
    },
    "kernelspec": {
      "name": "python3",
      "display_name": "Python 3"
    },
    "language_info": {
      "name": "python"
    }
  },
  "cells": [
    {
      "cell_type": "markdown",
      "metadata": {
        "id": "view-in-github",
        "colab_type": "text"
      },
      "source": [
        "<a href=\"https://colab.research.google.com/github/Vathsav56/AI-Agents-Development/blob/main/code/textTospeech(gTTS).ipynb\" target=\"_parent\"><img src=\"https://colab.research.google.com/assets/colab-badge.svg\" alt=\"Open In Colab\"/></a>"
      ]
    },
    {
      "cell_type": "code",
      "source": [
        "!pip install gTTS"
      ],
      "metadata": {
        "colab": {
          "base_uri": "https://localhost:8080/"
        },
        "id": "mgkNxOSB-YEV",
        "outputId": "604fecd0-03a9-4576-c585-29bde97bff67"
      },
      "execution_count": null,
      "outputs": [
        {
          "output_type": "stream",
          "name": "stdout",
          "text": [
            "Requirement already satisfied: gTTS in /usr/local/lib/python3.11/dist-packages (2.5.4)\n",
            "Requirement already satisfied: requests<3,>=2.27 in /usr/local/lib/python3.11/dist-packages (from gTTS) (2.32.3)\n",
            "Requirement already satisfied: click<8.2,>=7.1 in /usr/local/lib/python3.11/dist-packages (from gTTS) (8.1.8)\n",
            "Requirement already satisfied: charset-normalizer<4,>=2 in /usr/local/lib/python3.11/dist-packages (from requests<3,>=2.27->gTTS) (3.4.2)\n",
            "Requirement already satisfied: idna<4,>=2.5 in /usr/local/lib/python3.11/dist-packages (from requests<3,>=2.27->gTTS) (3.10)\n",
            "Requirement already satisfied: urllib3<3,>=1.21.1 in /usr/local/lib/python3.11/dist-packages (from requests<3,>=2.27->gTTS) (2.4.0)\n",
            "Requirement already satisfied: certifi>=2017.4.17 in /usr/local/lib/python3.11/dist-packages (from requests<3,>=2.27->gTTS) (2025.4.26)\n"
          ]
        }
      ]
    },
    {
      "cell_type": "code",
      "source": [
        "try:\n",
        "  import gtts\n",
        "  print(\"Module imported\")\n",
        "except ModuleNotFoundError:\n",
        "  print(\"Module not found\")\n",
        "  print(\"Installing module\")\n",
        "  !pip install gTTS\n",
        "  print(\"Module installed\")"
      ],
      "metadata": {
        "colab": {
          "base_uri": "https://localhost:8080/"
        },
        "id": "cZ-4cjcI-jve",
        "outputId": "982db78a-1335-4dbb-bf52-6d8aa017abee"
      },
      "execution_count": null,
      "outputs": [
        {
          "output_type": "stream",
          "name": "stdout",
          "text": [
            "Module imported\n"
          ]
        }
      ]
    },
    {
      "cell_type": "code",
      "source": [
        "from gtts import gTTS\n",
        "from IPython.display import Audio"
      ],
      "metadata": {
        "id": "F-VMg2c--1uG"
      },
      "execution_count": null,
      "outputs": []
    },
    {
      "cell_type": "code",
      "source": [
        "a = gTTS(input(\"Enter the text input :\"))"
      ],
      "metadata": {
        "colab": {
          "base_uri": "https://localhost:8080/"
        },
        "id": "9gGHzPMO_pi9",
        "outputId": "664c540f-fd28-481f-db13-4fd3d8fee82c"
      },
      "execution_count": null,
      "outputs": [
        {
          "name": "stdout",
          "output_type": "stream",
          "text": [
            "Enter the text input :vathsav\n"
          ]
        }
      ]
    },
    {
      "cell_type": "code",
      "source": [
        "a.save(\"speech.mp3\")"
      ],
      "metadata": {
        "id": "5ThPUU8DAPQM"
      },
      "execution_count": null,
      "outputs": []
    },
    {
      "cell_type": "code",
      "source": [
        "Audio(\"speech.mp3\")"
      ],
      "metadata": {
        "colab": {
          "base_uri": "https://localhost:8080/",
          "height": 75
        },
        "id": "zHd0XCTqARRs",
        "outputId": "0548c73d-9d99-41b0-90f7-a18efcf185c2"
      },
      "execution_count": null,
      "outputs": [
        {
          "output_type": "execute_result",
          "data": {
            "text/plain": [
              "<IPython.lib.display.Audio object>"
            ],
            "text/html": [
              "\n",
              "                <audio  controls=\"controls\" >\n",
              "                    <source src=\"data:audio/mpeg;base64,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\" type=\"audio/mpeg\" />\n",
              "                    Your browser does not support the audio element.\n",
              "                </audio>\n",
              "              "
            ]
          },
          "metadata": {},
          "execution_count": 26
        }
      ]
    },
    {
      "cell_type": "code",
      "source": [],
      "metadata": {
        "id": "MHwvjx2aAcVM"
      },
      "execution_count": null,
      "outputs": []
    }
  ]
}