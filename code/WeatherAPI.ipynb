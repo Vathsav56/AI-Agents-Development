{
  "nbformat": 4,
  "nbformat_minor": 0,
  "metadata": {
    "colab": {
      "provenance": [],
      "authorship_tag": "ABX9TyOBwL6NdWws5zRJId7YePP7",
      "include_colab_link": true
    },
    "kernelspec": {
      "name": "python3",
      "display_name": "Python 3"
    },
    "language_info": {
      "name": "python"
    }
  },
  "cells": [
    {
      "cell_type": "markdown",
      "metadata": {
        "id": "view-in-github",
        "colab_type": "text"
      },
      "source": [
        "<a href=\"https://colab.research.google.com/github/Vathsav56/AI-Agents-Development/blob/main/code/WeatherAPI.ipynb\" target=\"_parent\"><img src=\"https://colab.research.google.com/assets/colab-badge.svg\" alt=\"Open In Colab\"/></a>"
      ]
    },
    {
      "cell_type": "code",
      "source": [
        "import requests as rq\n",
        "import json as js"
      ],
      "metadata": {
        "id": "kOfW5d-1YvrH"
      },
      "execution_count": null,
      "outputs": []
    },
    {
      "cell_type": "code",
      "source": [
        "\n",
        "\n",
        "def get_weather(api_key, city):\n",
        "    base_url = \"http://api.openweathermap.org/data/2.5/weather?\"\n",
        "    complete_url = f\"{base_url}q={city}&appid={api_key}\"\n",
        "    response = requests.get(complete_url)\n",
        "    return response.json()\n",
        "\n",
        "api_key = \"81ceab31e27590f2ed80718977d1d28d\"\n",
        "city_name = input(\"Enter the city name: \")\n",
        "weather_data = get_weather(api_key, city_name)\n",
        "\n",
        "# print(js.loads(weather_data))\n",
        "# print(weather_data['weather'][0]['description'])\n",
        "print(weather_data)"
      ],
      "metadata": {
        "colab": {
          "base_uri": "https://localhost:8080/"
        },
        "id": "Ks-QU8GGcSw3",
        "outputId": "cae7e3d3-ed90-47db-93e9-7f67a654b3c3"
      },
      "execution_count": null,
      "outputs": [
        {
          "output_type": "stream",
          "name": "stdout",
          "text": [
            "Enter the city name: guntur\n",
            "{'coord': {'lon': 80.45, 'lat': 16.3}, 'weather': [{'id': 803, 'main': 'Clouds', 'description': 'broken clouds', 'icon': '04d'}], 'base': 'stations', 'main': {'temp': 307.19, 'feels_like': 310.65, 'temp_min': 307.19, 'temp_max': 307.19, 'pressure': 1006, 'humidity': 47, 'sea_level': 1006, 'grnd_level': 1003}, 'visibility': 10000, 'wind': {'speed': 0.89, 'deg': 16, 'gust': 1.58}, 'clouds': {'all': 59}, 'dt': 1747455595, 'sys': {'country': 'IN', 'sunrise': 1747440448, 'sunset': 1747486915}, 'timezone': 19800, 'id': 1270668, 'name': 'Guntur', 'cod': 200}\n"
          ]
        }
      ]
    }
  ]
}